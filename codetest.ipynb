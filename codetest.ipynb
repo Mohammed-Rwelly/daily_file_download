{
  "nbformat": 4,
  "nbformat_minor": 0,
  "metadata": {
    "colab": {
      "name": "codetest.ipynb",
      "provenance": []
    },
    "kernelspec": {
      "name": "python3",
      "display_name": "Python 3"
    },
    "language_info": {
      "name": "python"
    }
  },
  "cells": [
    {
      "cell_type": "code",
      "execution_count": 1,
      "metadata": {
        "id": "LNCO2-gB-rO2"
      },
      "outputs": [],
      "source": [
        "import pandas as pd\n",
        "\n",
        "url = 'https://raw.githubusercontent.com/lukes/ISO-3166-Countries-with-Regional-Codes/master/all/all.csv'\n",
        "df = pd.read_csv(url, index_col=0)"
      ]
    },
    {
      "cell_type": "code",
      "source": [
        "import random\n",
        "str(int(random.random()*10000)) + \"_df.csv\""
      ],
      "metadata": {
        "colab": {
          "base_uri": "https://localhost:8080/",
          "height": 36
        },
        "id": "N8reRvC4-ycC",
        "outputId": "09dc8417-4797-4601-d915-d5271cbb0716"
      },
      "execution_count": 4,
      "outputs": [
        {
          "output_type": "execute_result",
          "data": {
            "text/plain": [
              "'6723_df.csv'"
            ],
            "application/vnd.google.colaboratory.intrinsic+json": {
              "type": "string"
            }
          },
          "metadata": {},
          "execution_count": 4
        }
      ]
    },
    {
      "cell_type": "code",
      "source": [
        "file_name = str(int(random.random()*10000)) + \"_df.csv\"\n",
        "df.to_csv(file_name,index = False)"
      ],
      "metadata": {
        "id": "6PPP4Hj__6tI"
      },
      "execution_count": 5,
      "outputs": []
    },
    {
      "cell_type": "code",
      "source": [
        ""
      ],
      "metadata": {
        "id": "TyVJBagrAEoa"
      },
      "execution_count": null,
      "outputs": []
    }
  ]
}